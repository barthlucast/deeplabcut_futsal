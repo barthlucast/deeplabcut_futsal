!pip install deeplabcut==2.3.11
!pip install numpy==1.23.5
!pip install tensorflow==2.13.0 keras==2.13.1
!pip install tensorpack

from google.colab import drive
drive.mount('/content/drive')

# Set your working directory (update the path to match your Drive structure)
main_path = "/content/drive/My Drive/UFRGS/TCC/"

import deeplabcut
import os

import yaml

def read_config(config_file):
    with open(config_file, 'r') as f:
        config = yaml.safe_load(f)
    return config


# Specify the directory where files will be saved (adjust based on your Drive structure)
main_path = "/content/drive/My Drive/UFRGS/TCC/"

# Define the names for your project
name_project = "Game"
name_experimenter = "fut"
data = '2025-04-15'

# Enter the path to the video to be analyzed
path_video = main_path + "futsal.mp4"

# Path to save the project
path_save = main_path

# Create a new DeepLabCut project
print("Creating a new DeepLabCut project...")
deeplabcut.create_new_project(
    name_project,
    name_experimenter,
    [path_video],
    working_directory=path_save,
    copy_videos=True,
    multianimal=False
)

print(f"A new project named {name_project}-{name_experimenter}-{data} has been created.")
print(f"The config.yaml file is located at {path_save}{name_project}-{name_experimenter}-{data}/config.yaml.")
print("Please modify the config.yaml file as needed and save it before proceeding.")

# Define the config path
config_path = f"{path_save}{name_project}-{name_experimenter}-{data}/config.yaml"

# Check if the config.yaml file exists
if not os.path.exists(config_path):
    print(f"Config file not found at {config_path}. Please ensure it exists and is correctly modified.")
else:
    print(f"Config file found: {config_path}")

# Extract frames
print("Extracting frames...")
deeplabcut.extract_frames(
    config_path,
    mode='automatic',
    algo='kmeans',
    userfeedback=False,
    crop=False
)
print("Frames extracted. Proceed to labeling the frames.")

# Label frames
print("Labeling frames...")
deeplabcut.label_frames(config_path)
print("Frames labeled. Check the labeled frames and proceed to the next step.")

# Check labels
print("Checking labels...")
deeplabcut.check_labels(config_path, visualizeindividuals=True)
print("Labels checked. Preparing the training dataset.")

# Create training dataset
print("Creating the training dataset...")
deeplabcut.create_training_dataset(config_path, augmenter_type='imgaug')
print("Training dataset created. You can now proceed with training the model.")
