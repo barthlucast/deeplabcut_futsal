!pip install deeplabcut==2.3.11
%reload_ext numpy
%reload_ext scipy
%reload_ext matplotlib
%reload_ext mpl_toolkits

!pip install tensorpack
!pip install tensorflow==2.12.0
!pip install keras==2.12.0

from google.colab import drive
drive.mount('/content/drive', force_remount=True)

name_folder = 'Game-fut-2025-04-15' #name of the folder

#create a path variable that links to the config file:
path_config_file = '/content/drive/MyDrive/UFRGS/TCC/'+name_folder+'/config.yaml'

deeplabcut.create_training_dataset(path_config_file, net_type='resnet_50', augmenter_type='imgaug')

deeplabcut.train_network(path_config_file,  shuffle=1, displayiters=100,saveiters=500, maxiters=10000)

%matplotlib notebook
deeplabcut.evaluate_network(path_config_file,plotting=True)

deeplabcut.extract_save_all_maps(path_config_file, shuffle=1, Indices=[0, 5])

name_video = 'futsal.mp4' #name for video
videofile_path = ['/content/drive/MyDrive/UFRGS/TCC/'+name_folder+'/videos/'+name_video] #Enter the list of videos to analyze.

deeplabcut.analyze_videos(path_config_file,videofile_path, videotype='.mp4')

deeplabcut.create_labeled_video(path_config_file,videofile_path)

deeplabcut.plot_trajectories(path_config_file,videofile_path)

import pandas as pd


#copy the file .h5 in videos folder
path = '/content/drive/MyDrive/UFRGS/TCC/Game-fut-2025-04-15/videos/futsalDLC_resnet50_GameApr15shuffle1_4500.h5'
dt = pd.read_hdf(path)


save = 'positions.csv'
dt.to_csv('/content/drive/MyDrive/UFRGS/TCC/'+name_folder+'/'+save, sep='\t')
